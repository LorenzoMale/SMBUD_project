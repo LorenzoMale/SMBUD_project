{
 "cells": [
  {
   "cell_type": "code",
   "execution_count": 5,
   "metadata": {},
   "outputs": [
    {
     "name": "stdout",
     "output_type": "stream",
     "text": [
      "Features extraction from XML done\n",
      "Random papers data generated\n"
     ]
    }
   ],
   "source": [
    "import xml.etree.ElementTree as ET\n",
    "import json\n",
    "from random_selector import RandomDocBodyGenerator\n",
    "import os\n",
    "from random import randint\n",
    "\n",
    "tree = ET.parse('../db-final.xml')   \n",
    "children = list(tree.getroot())  \n",
    "LIMIT = 2000\n",
    "allowed_tags = ['author', 'title', 'journal', 'ee', 'publisher', 'year', 'month', 'volume', 'pages', 'booktitle']\n",
    "paper_titles = {}\n",
    "\n",
    "i = 0\n",
    "dict_arr = []                                \n",
    "for c in children:\n",
    "    next_paper = False\n",
    "    l = list(c)                         \n",
    "    obj = {}\n",
    "    for element in l:\n",
    "        if element.tag == 'author':\n",
    "          if not 'authors' in obj:\n",
    "            obj['authors'] = []\n",
    "          obj['authors'].append(element.text)\n",
    "        else:\n",
    "          if element.tag in allowed_tags:\n",
    "            obj[element.tag] = element.text  \n",
    "            if element.tag == 'title':\n",
    "              if element.text in paper_titles:\n",
    "                next_paper = True\n",
    "              else:\n",
    "                paper_titles[element.text] = True  \n",
    "\n",
    "    if next_paper:\n",
    "      continue          \n",
    "    obj['type'] = c.tag\n",
    "    dict_arr.append(obj)\n",
    "    #print(f\"Element #{i} parsed\")\n",
    "    i += 1\n",
    "    if i == LIMIT:\n",
    "      break\n",
    "\n",
    "with open('extracted-features-from-xml.json', 'w') as outfile:\n",
    "    json.dump(dict_arr, outfile)\n",
    "    print(\"Features extraction from XML done\")\n",
    "\n",
    "extracted_data = json.load(open('extracted-features-from-xml.json'))\n",
    "random_generator = RandomDocBodyGenerator()  \n",
    "keywords = random_generator.generate_random_keywords()\n",
    "authors_data = {}\n",
    "for paper in extracted_data:\n",
    "    paper[\"abstract\"] = random_generator.generate_random_text()\n",
    "    paper[\"documentBody\"] = random_generator.generate_random_document_body()\n",
    "    paper[\"citations\"] = random_generator.get_random_paper_citations(extracted_data)\n",
    "    paper[\"keywords\"] = random_generator.get_keywords(keywords)\n",
    "    try:\n",
    "      paper[\"language\"] = random_generator.get_lang()\n",
    "    except:\n",
    "      pass\n",
    "\n",
    "    if \"authors\" in paper:\n",
    "        authors = []\n",
    "        for author in paper[\"authors\"]:\n",
    "            if author in authors_data:\n",
    "                authors.append(authors_data[author])\n",
    "            else:\n",
    "                email = author.replace(\" \", \"_\") + \"@mail.com\"\n",
    "                bio = random_generator.get_random_sentence()\n",
    "                affiliation = random_generator.get_affiliation()\n",
    "                name = author\n",
    "                birth_year = randint(1950, 2000)\n",
    "                author = {\n",
    "                    \"name\": name,\n",
    "                    \"email\": email.lower(),\n",
    "                    \"bio\": bio,\n",
    "                    \"affiliations\": affiliation,\n",
    "                    \"birth_year\" : birth_year\n",
    "                }\n",
    "                authors_data[name] = author\n",
    "                authors.append(author)\n",
    "        paper[\"authors\"] = authors\n",
    "\n",
    "        paper[\"year\"] = randint(20 + max(map(lambda author: author[\"birth_year\"], paper[\"authors\"])),2022)\n",
    "\n",
    "with open(\"mongodb-documents.json\",\"w\") as f:\n",
    "    json.dump(extracted_data, f)\n",
    "    print(\"Random papers data generated\")\n",
    "\n",
    "os.remove(\"extracted-features-from-xml.json\")\n"
   ]
  }
 ],
 "metadata": {
  "kernelspec": {
   "display_name": "Python 3.9.7 ('base')",
   "language": "python",
   "name": "python3"
  },
  "language_info": {
   "codemirror_mode": {
    "name": "ipython",
    "version": 3
   },
   "file_extension": ".py",
   "mimetype": "text/x-python",
   "name": "python",
   "nbconvert_exporter": "python",
   "pygments_lexer": "ipython3",
   "version": "3.9.7"
  },
  "vscode": {
   "interpreter": {
    "hash": "301b266aa629aa9de487ee452fff12251e6c35c264ea2d52ed4daebf718ec4b8"
   }
  }
 },
 "nbformat": 4,
 "nbformat_minor": 4
}
