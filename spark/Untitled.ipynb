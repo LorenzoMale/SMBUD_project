{
 "cells": [
  {
   "cell_type": "code",
   "execution_count": 5,
   "metadata": {},
   "outputs": [],
   "source": [
    "from pyspark.sql import SparkSession\n",
    "import os"
   ]
  },
  {
   "cell_type": "code",
   "execution_count": null,
   "metadata": {},
   "outputs": [],
   "source": [
    "spark = SparkSession.\\\n",
    "        builder.\\\n",
    "        appName(\"project\")\\\n",
    "        .getOrCreate()\n",
    "spark"
   ]
  },
  {
   "cell_type": "code",
   "execution_count": 29,
   "metadata": {},
   "outputs": [
    {
     "name": "stdout",
     "output_type": "stream",
     "text": [
      "root\n",
      " |-- title: string (nullable = true)\n",
      " |-- type: string (nullable = true)\n",
      " |-- publisher: string (nullable = true)\n",
      " |-- journal: string (nullable = true)\n",
      " |-- month: string (nullable = true)\n",
      " |-- year: integer (nullable = true)\n",
      " |-- booktitle: string (nullable = true)\n",
      " |-- volume: string (nullable = true)\n",
      " |-- pages: string (nullable = true)\n",
      " |-- ee: string (nullable = true)\n",
      "\n",
      "root\n",
      " |-- name: string (nullable = true)\n",
      " |-- birth_year: integer (nullable = true)\n",
      " |-- email: string (nullable = true)\n",
      " |-- affiliations: string (nullable = true)\n",
      " |-- bio: string (nullable = true)\n",
      "\n",
      "root\n",
      " |-- title: string (nullable = true)\n",
      " |-- auth_name: string (nullable = true)\n",
      "\n",
      "root\n",
      " |-- citing: string (nullable = true)\n",
      " |-- cited: string (nullable = true)\n",
      "\n",
      "root\n",
      " |-- title: string (nullable = true)\n",
      " |-- keyword: string (nullable = true)\n",
      "\n",
      "+--------------------+-------+--------------------+--------------------+--------+----+---------+--------------------+-----+--------------------+\n",
      "|               title|   type|           publisher|             journal|   month|year|booktitle|              volume|pages|                  ee|\n",
      "+--------------------+-------+--------------------+--------------------+--------+----+---------+--------------------+-----+--------------------+\n",
      "|Spectre Attacks: ...|article|                null|  meltdownattack.com|    null|2021|     null|                null| null|https://spectreat...|\n",
      "|            Meltdown|article|                null|  meltdownattack.com|    null|2020|     null|                null| null|https://meltdowna...|\n",
      "|Computer Science ...|   book|ACM Press and IEE...|                null|    null|2013|     null|                null| null|https://www.wikid...|\n",
      "|An Evaluation of ...|article|                null|GTE Laboratories ...|  August|1981|     null|   TR-0263-08-94-165| null|                null|\n",
      "|DARWIN: On the In...|article|                null|GTE Laboratories ...|   March|2019|     null|   TR-0222-10-92-165| null|                null|\n",
      "|Integrating Heter...|article|                null|GTE Laboratories ...|December|2021|     null|   TR-0174-12-91-165| null|                null|\n",
      "|Object Model Capa...|article|                null|GTE Laboratories ...|    June|2022|     null|   TM-0149-06-89-165| null|                null|\n",
      "|Integrating Objec...|article|                null|GTE Laboratories ...|November|1992|     null|   TR-0310-11-95-165| null|                null|\n",
      "|Towards a Transac...|article|                null|GTE Laboratories ...|    June|2018|     null|   TR-0146-06-91-165| null|                null|\n",
      "|A 'RISC' Object M...|article|                null|GTE Laboratories ...|  August|2019|     null|   TR-0231-08-93-165| null|                null|\n",
      "|MetaObject Protoc...|article|                null|GTE Laboratories ...|December|1983|     null|   TR-0244-12-93-165| null|                null|\n",
      "|Object Data Langu...|article|                null|GTE Laboratories ...|December|1995|     null|   TR-0169-12-91-165| null|                null|\n",
      "|Object Data Model...|article|                null|GTE Laboratories ...|December|2019|     null|   TM-0332-11-90-165| null|                null|\n",
      "|Distributed Objec...|article|                null|GTE Laboratories ...|    June|2007|     null|   TM-0014-06-88-165| null|                null|\n",
      "|Experiments with ...|article|                null|GTE Laboratories ...|    July|2009|     null|   TR-0236-09-93-165| null|                null|\n",
      "|Muffin: A Distrib...|article|                null|University of Cal...|     May|2010|     null|      UCB/ERL M79/28| null|                null|\n",
      "|Object Oriented D...|article|                null|           ANSI X3H2|    null|2021|     null|         X3H2-90-412| null|                null|\n",
      "|Inheritance for A...|article|                null|           ANSI X2H2|    July|2011|     null|DBL:KAW-006 X3H2-...| null|                null|\n",
      "|Modification of U...|article|                null|           ANSI X3H2|    null|2006|     null|         X3H2-90-292| null|                null|\n",
      "|Object ADTs (with...|article|                null|           ANSI X3H2|   April|2011|     null|DBL:ARL-029 X3H2-...| null|                null|\n",
      "+--------------------+-------+--------------------+--------------------+--------+----+---------+--------------------+-----+--------------------+\n",
      "only showing top 20 rows\n",
      "\n"
     ]
    }
   ],
   "source": [
    "del authors\n",
    "dir_path = os.path.abspath(\"\") + os.sep + \"data\" + os.sep\n",
    "load = lambda filename: spark.read.csv(dir_path + filename, header=True, inferSchema=True)\n",
    "publications = load(\"publications.csv\")\n",
    "authors = load(\"authors.csv\")\n",
    "\n",
    "pub2auth = load(\"publications2authors.csv\")\n",
    "citations = load(\"citations.csv\")\n",
    "keywords = load(\"keywords.csv\")\n",
    "\n",
    "for x in (publications, authors, pub2auth, citations, keywords):\n",
    "    x.printSchema()\n",
    "publications.show()"
   ]
  },
  {
   "cell_type": "code",
   "execution_count": null,
   "metadata": {},
   "outputs": [],
   "source": [
    "#query 1\n",
    "#libri scritti da un certo autore\n",
    "\"\"\"select* \n",
    "from publication left join pub2auth on id = pub_id\n",
    "where authname= 'tizio' \"\"\""
   ]
  },
  {
   "cell_type": "code",
   "execution_count": null,
   "metadata": {},
   "outputs": [],
   "source": [
    "#query 2\n",
    "#libri con tag machine learning\n",
    "\"\"\"\n",
    "select *\n",
    "from pub2authotr left join publication left join tags on pub2author.id = pub.id and  on  pub.id = tags.id\n",
    "where tag like 'da mettere'\n",
    "limit 3\n",
    "\"\"\""
   ]
  },
  {
   "cell_type": "code",
   "execution_count": null,
   "metadata": {},
   "outputs": [],
   "source": [
    "#query 4\n",
    "#libri raggruppati per autore a rinominati \"titolo\" written by \"author\"\n",
    "\"\"\"select title + \", written by\" + name as something\n",
    "from pub2authors left join publication on pub.id = pub2authors.id\n",
    "group by name\n",
    "\"\"\""
   ]
  },
  {
   "cell_type": "code",
   "execution_count": null,
   "metadata": {},
   "outputs": [],
   "source": [
    "#query 5\n",
    "#tutti gli autori di un certo libro, questo libro è stato scritto dopo il 1982\n",
    "\"\"\"\n",
    "select title, name\n",
    "from pub left join pub2auth on pub.id = pub2auth.id\n",
    "where year > 1982\n",
    "group by pub.id\n",
    "\"\"\""
   ]
  }
 ],
 "metadata": {
  "kernelspec": {
   "display_name": "Python 3",
   "language": "python",
   "name": "python3"
  },
  "language_info": {
   "codemirror_mode": {
    "name": "ipython",
    "version": 3
   },
   "file_extension": ".py",
   "mimetype": "text/x-python",
   "name": "python",
   "nbconvert_exporter": "python",
   "pygments_lexer": "ipython3",
   "version": "3.8.5"
  }
 },
 "nbformat": 4,
 "nbformat_minor": 4
}